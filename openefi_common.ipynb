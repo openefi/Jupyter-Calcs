{
 "metadata": {
  "language_info": {
   "codemirror_mode": {
    "name": "ipython",
    "version": 3
   },
   "file_extension": ".py",
   "mimetype": "text/x-python",
   "name": "python",
   "nbconvert_exporter": "python",
   "pygments_lexer": "ipython3",
   "version": "3.8.5-final"
  },
  "orig_nbformat": 2,
  "kernelspec": {
   "name": "Python 3.8.5 64-bit",
   "display_name": "Python 3.8.5 64-bit",
   "metadata": {
    "interpreter": {
     "hash": "d2152fd7f0bbc62aa1baff8c990435d1e2c7175d001561303988032604c11a48"
    }
   }
  }
 },
 "nbformat": 4,
 "nbformat_minor": 2,
 "cells": [
  {
   "cell_type": "code",
   "execution_count": 3,
   "metadata": {},
   "outputs": [
    {
     "output_type": "error",
     "ename": "SyntaxError",
     "evalue": "invalid syntax (<ipython-input-3-bf0adf3e5ad8>, line 14)",
     "traceback": [
      "\u001b[0;36m  File \u001b[0;32m\"<ipython-input-3-bf0adf3e5ad8>\"\u001b[0;36m, line \u001b[0;32m14\u001b[0m\n\u001b[0;31m    def convert_to_volt(ADC_Value):\u001b[0m\n\u001b[0m    ^\u001b[0m\n\u001b[0;31mSyntaxError\u001b[0m\u001b[0;31m:\u001b[0m invalid syntax\n"
     ]
    }
   ],
   "source": [
    "import numpy as np\n",
    "\n",
    "def get_default_gpio_cfg ():\n",
    "    return  {\n",
    "        \"VREF\": 3300,\n",
    "        \"ADC_MAX_VALUE\": 4095,\n",
    "        \"R1\": 10000\n",
    "    }\n",
    "\n",
    "def convert_to_resistance(ADC_Value):\n",
    "    cfg = get_default_gpio_cfg()\n",
    "    return ((cfg[\"R1\"] * cfg[\"ADC_MAX_VALUE\"]) / ADC_Value / cfg[\"R1\"]\n",
    "\n",
    "def convert_to_volt(ADC_Value):\n",
    "    cfg = get_default_gpio_cfg()\n",
    "    return (ADC_Value * cfg[\"VREF\"] / cfg[\"ADC_MAX_VALUE\"])\n",
    "\n",
    "def sample_adc_values():\n",
    "    cfg = get_default_gpio_cfg()\n",
    "    return  range(0,cfg[\"ADC_MAX_VALUE\"],150)\n"
   ]
  }
 ]
}