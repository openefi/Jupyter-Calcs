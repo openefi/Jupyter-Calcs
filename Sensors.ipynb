{
 "cells": [
  {
   "cell_type": "markdown",
   "metadata": {},
   "source": [
    "### Aca voy a revolear todos los calculos que se utilizan para los sensores y estan en defines.h"
   ]
  },
  {
   "cell_type": "markdown",
   "metadata": {},
   "source": [
    "#### Sensor de Temperatura NTC:"
   ]
  },
  {
   "cell_type": "code",
   "execution_count": 16,
   "metadata": {},
   "outputs": [
    {
     "name": "stderr",
     "output_type": "stream",
     "text": [
      "/tmp/ipykernel_128184/2205784528.py:28: MatplotlibDeprecationWarning: The 'b' parameter of grid() has been renamed 'visible' since Matplotlib 3.5; support for the old name will be dropped two minor releases later.\n",
      "  plt.grid(b=True, color='DarkTurquoise', alpha=0.2, linestyle=':', linewidth=2)\n"
     ]
    },
    {
     "data": {
      "image/png": "[encoded data removed]",
      "text/plain": "<Figure size 576x576 with 1 Axes>"
     },
     "metadata": {
      "needs_background": "light",
      "transient": {}
     },
     "output_type": "display_data"
    }
   ],
   "source": [
    "import numpy as np\n",
    "import math\n",
    "import matplotlib.pyplot as plt\n",
    "\n",
    "from openefi_common import convert_to_resistance, sample_adc_values\n",
    "\n",
    "#Constantes del sensor NTC:\n",
    "\n",
    "A = 1.12492089e-3\n",
    "B = 2.372075385e-4\n",
    "C = 6.954079529e-8\n",
    "\n",
    "ADC_Values = sample_adc_values()\n",
    "Temp = []\n",
    "\n",
    "for ADC_Value in sample_adc_values():\n",
    "    if ADC_Value != 0:\n",
    "        R = convert_to_resistance(ADC_Value);\n",
    "        logR = math.log(R);\n",
    "        kelvin = 1 / (A + B * logR + C * logR * logR * logR)\n",
    "        Temp.append((kelvin - 273.15)/10)\n",
    "\n",
    "# vamo' a plotear\n",
    "\n",
    "plt.plot(ADC_Values, Temp, label='Temperature')\n",
    "plt.xlabel('ADC Value', fontsize=15)\n",
    "plt.ylabel('Temperature', fontsize=15)\n",
    "plt.grid(b=True, color='DarkTurquoise', alpha=0.2, linestyle=':', linewidth=2)\n",
    "plt.rcParams['figure.figsize'] = [8, 8]\n",
    "plt.legend()\n",
    "plt.show()\n"
   ]
  },
  {
   "cell_type": "markdown",
   "metadata": {},
   "source": [
    "#### Sensor TPS:"
   ]
  },
  {
   "cell_type": "code",
   "execution_count": 17,
   "metadata": {},
   "outputs": [
    {
     "ename": "TypeError",
     "evalue": "'float' object cannot be interpreted as an integer",
     "output_type": "error",
     "traceback": [
      "\u001b[0;31m---------------------------------------------------------------------------\u001b[0m",
      "\u001b[0;31mTypeError\u001b[0m                                 Traceback (most recent call last)",
      "Input \u001b[0;32mIn [17]\u001b[0m, in \u001b[0;36m<module>\u001b[0;34m\u001b[0m\n\u001b[1;32m     59\u001b[0m tps\u001b[38;5;241m.\u001b[39mcalc\u001b[38;5;241m.\u001b[39margtypes \u001b[38;5;241m=\u001b[39m [c_int32]\n\u001b[1;32m     60\u001b[0m tps\u001b[38;5;241m.\u001b[39mcalc\u001b[38;5;241m.\u001b[39mrestype \u001b[38;5;241m=\u001b[39m ctypes\u001b[38;5;241m.\u001b[39mc_int32\n\u001b[0;32m---> 61\u001b[0m mvValue \u001b[38;5;241m=\u001b[39m \u001b[43mctypes\u001b[49m\u001b[38;5;241;43m.\u001b[39;49m\u001b[43mc_uint32\u001b[49m\u001b[43m(\u001b[49m\u001b[43mmV\u001b[49m\u001b[43m)\u001b[49m\u001b[38;5;241m.\u001b[39mvalue\n\u001b[1;32m     63\u001b[0m \u001b[38;5;28;01mif\u001b[39;00m mV \u001b[38;5;241m<\u001b[39m\u001b[38;5;241m=\u001b[39m \u001b[38;5;241m3695\u001b[39m:     \n\u001b[1;32m     64\u001b[0m     \u001b[38;5;28;01mif\u001b[39;00m mV \u001b[38;5;241m>\u001b[39m \u001b[38;5;241m1700\u001b[39m:\n",
      "\u001b[0;31mTypeError\u001b[0m: 'float' object cannot be interpreted as an integer"
     ]
    }
   ],
   "source": [
    "import numpy as np\n",
    "import math\n",
    "import matplotlib.pyplot as plt\n",
    "import ctypes\n",
    "\n",
    "from openefi_common import  sample_adc_values, converto_to_volt\n",
    "\n",
    "ADC_Values = sample_adc_values()\n",
    "\n",
    "tps = ctypes.CDLL(\"func/tps.so\")\n",
    "\n",
    "# Funciones en C:\n",
    "# Para el sensor utilizado:\n",
    "# Valor Minimo => 1700 mV\n",
    "# Valor Maximo => 4500 mV\n",
    "# cambio de ecuacion lineal a los 3695mV\n",
    "# mV <= 3695 => (mV - 1823) / 37.44\n",
    "# mV > 3695 => (mV - 2943) / 15.04\n",
    "\n",
    "vref = []\n",
    "\n",
    "Volt1 = []\n",
    "Pos1 = []\n",
    "\n",
    "Volt_err1 = []\n",
    "err1 = []\n",
    "\n",
    "Volt2 = []\n",
    "Pos2 = []\n",
    "\n",
    "Volt_err2 = []\n",
    "err2 = []\n",
    "\n",
    "\"\"\" for ADC_Value in sample_adc_values():\n",
    "    if ADC_Value != 0:\n",
    "        mV = converto_to_volt(ADC_Value)  * 1.534\n",
    "        vref.append(mV)\n",
    "\n",
    "        if mV <= 3695:     \n",
    "            if mV > 1700:\n",
    "                Volt2.append(mV)\n",
    "                Pos2.append((mV - 1823) / 37.44)\n",
    "            else:\n",
    "                Volt_err2.append(mV)\n",
    "                err2.append((mV - 1823) / 37.44)\n",
    "        \n",
    "        if mV > 3695:\n",
    "            if mV < 4500:\n",
    "                Volt1.append(mV)\n",
    "                Pos1.append((mV - 2943) / 15.04)\n",
    "            else:\n",
    "                Volt_err1.append(mV)\n",
    "                err1.append((mV - 2943) / 15.04) \"\"\"\n",
    "\n",
    "for ADC_Value in sample_adc_values():\n",
    "    if ADC_Value != 0:\n",
    "        mV = converto_to_volt(ADC_Value)  * 1.534\n",
    "        vref.append(mV)\n",
    "        tps.calc.argtypes = [c_int32]\n",
    "        tps.calc.restype = ctypes.c_int32\n",
    "        mvValue = ctypes.c_uint32(int(mV)).value\n",
    "\n",
    "        if mV <= 3695:     \n",
    "            if mV > 1700:\n",
    "                Volt2.append(mV)\n",
    "                Pos2.append(mvValue)\n",
    "            else:\n",
    "                Volt_err2.append(mV)\n",
    "                err2.append(mvValue)\n",
    "        \n",
    "        if mV > 3695:\n",
    "            if mV < 4500:\n",
    "                Volt1.append(mV)\n",
    "                Pos1.append(mvValue)\n",
    "            else:\n",
    "                Volt_err1.append(mV)\n",
    "                err1.append(mvValue)\n",
    "                \n",
    "# vamo' a plotear (plotear tambien valores que dispara DTC con otro color?)\n",
    "\n",
    "plt.plot(Volt1, Pos1, label='TPS Position 1',color=\"lime\")\n",
    "plt.plot(Volt2, Pos2, label='TPS Position 2',color=\"blue\")\n",
    "\n",
    "plt.plot(Volt_err1, err1, label='TPS overvoltage error',color=\"red\")\n",
    "plt.plot(Volt_err2, err2, label='TPS undervoltage error',color=\"violet\")\n",
    "\n",
    "plt.xlabel('MilliVolt', fontsize=15)\n",
    "plt.ylabel('TPS Position', fontsize=15)\n",
    "plt.grid(b=True, color='DarkTurquoise', alpha=0.2, linestyle=':', linewidth=2)\n",
    "plt.rcParams['figure.figsize'] = [6, 6]\n",
    "plt.legend()\n",
    "plt.show()"
   ]
  },
  {
   "cell_type": "code",
   "execution_count": null,
   "metadata": {},
   "outputs": [],
   "source": []
  }
 ],
 "metadata": {
  "kernelspec": {
   "display_name": "Python 3.10.1 64-bit",
   "metadata": {
    "interpreter": {
     "hash": "d2152fd7f0bbc62aa1baff8c990435d1e2c7175d001561303988032604c11a48"
    }
   },
   "name": "python3"
  },
  "language_info": {
   "codemirror_mode": {
    "name": "ipython",
    "version": 3
   },
   "file_extension": ".py",
   "mimetype": "text/x-python",
   "name": "python",
   "nbconvert_exporter": "python",
   "pygments_lexer": "ipython3",
   "version": "3.10.1-final"
  },
  "orig_nbformat": 2
 },
 "nbformat": 4,
 "nbformat_minor": 2
}